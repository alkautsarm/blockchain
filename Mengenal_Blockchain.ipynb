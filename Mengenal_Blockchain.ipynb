{
 "cells": [
  {
   "cell_type": "markdown",
   "metadata": {},
   "source": [
    "# Memahami Blockchain\n",
    "\n",
    "Block chain adalah sebuah immutable linked list. Maksudnya struktur dari blockchain menyerupai linkedlist akan tetapi data dalam tiap block pada blockchain tidak dapat diubah. Bagaimana mekanismenya sehingga blockchain ini immutable akan terjawab jika kita memahami cara kerja dari blockchain."
   ]
  },
  {
   "cell_type": "markdown",
   "metadata": {},
   "source": [
    "## Linked List\n",
    "\n",
    "Pertama kita harus paham dulu apa itu linked list. Kalau pernah belajar bahasa C, pasti familiar dengan linked list. Tidak seperti bahasa pemrograman lainnya, C hampir tidak punya fitur apa-apa jika dibandingkan dengan bahasa pemrograman modern high level seperti Java, Python, Ruby dll. C tidak punya vector atau array yang ukurannya dinamis (bisa di tambah panjang elemennya), tapi C punya struct dan malloc (memory allocation) untuk memungkinkan membuat yang mirip dengan itu. \n",
    "\n",
    "Jadi kita declare suatu struct, declare variabel yang ingin kita masukkan disitu dan terakhir variabel alamat memori yang menunjukkan element selanjutnya. Sampai disitu kita punya elemen pertama. Lalu ketika kita ingin membuat elemen kedua, kita pakai malloc untuk alokasi memori keperluan struct baru ini. Kita update variabel alamat memori di elemen pertama dengan alamat memori struct elemen kedua. Begitu seterusnya ketika membuat elemen ketiga, kita update variabel alamat memori elemen kedua dengan alamat memori struct elemen ketiga.\n",
    "\n",
    "![linkedlist](Linkedlist.png)\n",
    "\n"
   ]
  },
  {
   "cell_type": "markdown",
   "metadata": {},
   "source": [
    "## Linked List Versi BlockChain\n",
    "\n",
    "Linked List Blockchain yang asli cukup kompleks dan bisa berbeda-beda sesuai kebutuhan akan sistem yang dibangun. Di sini akan dijelaskan bentuk block chain yang umum dan disederhanakan tapi tetap dapat pointnya kenapa block chain bersifat immutable.\n",
    "\n",
    "![Struktur_Blockchain](Blockchain-Structure.png)\n",
    "\n",
    "Dalam structnya secara umum terdiri dari hash dari block sebelumnya (seluruh data pada struct atau block sebelumnya di masukkan ke fungsi hash, biasanya yang digunakan adalah sha-256), Timestamp kapan block tersebut dibuat, data lainnya yang diperlukan untuk keperluan transaksi, dan terakhir tentu saja alamat memori atau pointer yang menunjukkan block selanjutnya.\n",
    "\n",
    "Hash inilah yang menjadi rahasia kenapa block chain 1 dari 2 alasan kenapa blockchain immutable. <b>Blockchain bukannya tidak bisa dimanipulasi isi data didalamnya, tapi ketika isi datanya dimanipulasi kita tahu itu</b>. Dan kalau kita tahu bahwa suatu informasi itu palsu atau sudah dimanipulasi, kita bisa mengabaikan informasi yang tidak valid tersebut atau hal lainnya tergantung terhadap kepentingan blockchain digunakan. <b>Alasan kedua kenapa block chain menjadi immutable adalah konsep Proof of Work (PoW)</b>. Kita akan bahas lebih lanjut lagi setelah hash.\n",
    "\n",
    "Untuk mempermudah memahami, ayo kita ilustrasikan. Ilustrasi disini kita memakai Python. Kita tidak akan menggunakan linked list, melainkan list akan tetapi esensi dari blockchain yang ingin disampaikan akan tetap sama. Jadi, misal kita mempunyai data murid yang ingin namanya dimasukkan dalam blockchain, sebut saja Andi, Budi, Dodi, Ani, dan Mike. Jika kita masukkan ini ke Blockchain sesuai urutannya, maka dalam blockchain akan tampak sebagai berikut."
   ]
  },
  {
   "cell_type": "code",
   "execution_count": 26,
   "metadata": {},
   "outputs": [
    {
     "name": "stdout",
     "output_type": "stream",
     "text": [
      "{'index': 1, 'timestamp': 1576570481.7355874, 'nama': 'kosong_2553560', 'previous_hash': 1}\n",
      "\n",
      "{'index': 2, 'timestamp': 1576570481.7356496, 'nama': 'kosong_5135674', 'previous_hash': 'b7036b4f149c85fbd9882cc4989568e1bae43361e1c19df3d537933ca3090106'}\n",
      "\n",
      "{'index': 3, 'timestamp': 1576570481.7357028, 'nama': 'kosong_8277763', 'previous_hash': 'e071662f6493dd9719471afe6fe1f3a49f4df43f1309832a7b6456aa3931048a'}\n",
      "\n",
      "{'index': 4, 'timestamp': 1576570481.7357438, 'nama': 'Andi', 'previous_hash': '6bde742627830c4ecdfff4b987ee2c18d36a3c8e5d62083e7b57419cc5c71267'}\n",
      "\n",
      "{'index': 5, 'timestamp': 1576570481.735787, 'nama': 'Budi', 'previous_hash': 'f49a0f11f85f01af26f591495416bde45d6e2bf977f9820d8663338eca46f8ba'}\n",
      "\n",
      "{'index': 6, 'timestamp': 1576570481.735831, 'nama': 'Dodi', 'previous_hash': 'b010ba8a39381f9f177169d43dcaa16791128d5a16cda05b1a9d29fdc1dea82a'}\n",
      "\n",
      "{'index': 7, 'timestamp': 1576570481.7358723, 'nama': 'Ani', 'previous_hash': 'fa473e3169f7bd12ada9a6dd16274f051aa0d4dc5269ae7e307f19c9b0f898ff'}\n",
      "\n",
      "{'index': 8, 'timestamp': 1576570481.735965, 'nama': 'Mike', 'previous_hash': '9d7ac543f0b2944154863f951b6e744c3b1ae1c25fbc9c4843d4de7d7d6237c7'}\n",
      "\n",
      "{'index': 9, 'timestamp': 1576570481.7360213, 'nama': 'kosong_5377245', 'previous_hash': '8033c3fbac065bb89079aeb615c902d215a925e9ed80663cff79fdb3c4a7e7a2'}\n",
      "\n",
      "{'index': 10, 'timestamp': 1576570481.7360735, 'nama': 'kosong_7339549', 'previous_hash': '20605566ca4448c3c88e313a4aa7e4140e819612556883529285f320529c747c'}\n",
      "\n",
      "{'index': 11, 'timestamp': 1576570481.7361236, 'nama': 'kosong_1237969', 'previous_hash': 'd67a862ff163a2cfb6d1037bfdf497a02137cf5898d7868d25f9c62bcb283065'}\n",
      "\n"
     ]
    }
   ],
   "source": [
    "import numpy as np\n",
    "import hashlib\n",
    "from time import time\n",
    "from random import randrange\n",
    "\n",
    "global_chain = []\n",
    "\n",
    "#setting\n",
    "chain_len = 10\n",
    "\n",
    "def create_block(nama):\n",
    "    if len(global_chain) == 0:\n",
    "        previous_hash = 1\n",
    "    else:\n",
    "#        data_previous = '%s/%s/%s/%s'%(global_chain[-1]['index'], global_chain[-1]['timestamp'],\n",
    "#                                     global_chain[-1]['nama'],global_chain[-1]['previous_hash'])\n",
    "        previous_hash = gen_hash(global_chain[-1])\n",
    "    block = {\n",
    "            'index': len(global_chain) + 1,\n",
    "            'timestamp': time(),\n",
    "            'nama': nama,\n",
    "            'previous_hash': previous_hash\n",
    "            }\n",
    "    global_chain.append(block)\n",
    "\n",
    "def gen_hash(block):\n",
    "    data_str = '%s/%s/%s/%s'%(block['index'], block['timestamp'], block['nama'],block['previous_hash'])\n",
    "    data_hash = hashlib.sha256(data_str.encode('utf8')).hexdigest()\n",
    "    return data_hash\n",
    "    \n",
    "\n",
    "#print(len(global_chain))\n",
    "#print(hashlib.sha256('a'.encode('utf8')).hexdigest())\n",
    "create_block('kosong_%s'%(randrange(9999999)))\n",
    "create_block('kosong_%s'%(randrange(9999999)))\n",
    "create_block('kosong_%s'%(randrange(9999999)))\n",
    "create_block('Andi')\n",
    "create_block('Budi')\n",
    "create_block('Dodi')\n",
    "create_block('Ani')\n",
    "create_block('Mike')\n",
    "create_block('kosong_%s'%(randrange(9999999)))\n",
    "create_block('kosong_%s'%(randrange(9999999)))\n",
    "create_block('kosong_%s'%(randrange(9999999)))\n",
    "for i in range(len(global_chain)):\n",
    "    print(global_chain[i])\n",
    "    print()"
   ]
  },
  {
   "cell_type": "markdown",
   "metadata": {},
   "source": [
    "Nama Murid-murid tersebut pada blockchain tersimpan di block index 4 - 8. Dengan hashnya masing-masing berada pada block didepannya."
   ]
  },
  {
   "cell_type": "code",
   "execution_count": 22,
   "metadata": {},
   "outputs": [
    {
     "name": "stdout",
     "output_type": "stream",
     "text": [
      "1 1\n",
      "\n",
      "2 d3b0d0b9c590febfaa33b79ea430d7d53f1a51a4e90c12cf309558f02bde0f67\n",
      "\n",
      "3 767d50ed4089ae9410cb2b0ab9fd9edd0a2a8a8e6e3c7618f81e7695e7962846\n",
      "\n",
      "4 f64f935ec7602fbb29c584324061a20dff171621617dfb028078d227b571bb44\n",
      "\n",
      "5 0d1902e4b68fc8e6a9c6e67a677e26d8295230f791c1684be735517bf547418e\n",
      "\n",
      "6 aedc36e85a51f181b25abe25345b02704e52d2b95abb46eb95807ea975247f03\n",
      "\n",
      "7 d6dce7e69301fb170c31586a0c2f0fbe2388839ded5c041a1020fe2d9faef9e6\n",
      "\n",
      "8 046dfa5d5bf37b7b22ae11b49ee9a03fb63f67608d1160f48057058fc799b3bd\n",
      "\n",
      "9 dc2b15d6901f88d5ceffb702219df4d447a9baf7a2d8bb4cc235a3aa2ac68cb4\n",
      "\n",
      "10 c29c72d7e8e40d4dbdd09afb69207e46e5371f0566a3cc0cfd9c76860f31dadf\n",
      "\n",
      "11 d47481949063c19ca6c17cdd8b355862b6c49cc091cf8573507d7e2941147c38\n",
      "\n"
     ]
    }
   ],
   "source": [
    "for i in range(len(global_chain)):\n",
    "    print(global_chain[i]['index'], global_chain[i]['previous_hash'])\n",
    "    print()"
   ]
  },
  {
   "cell_type": "markdown",
   "metadata": {},
   "source": [
    "Misal ada orang yang iseng ingin memalsukan blockchain dengan mengganti nama Budi menjadi Dedi. Maka yang terjadi adalah, ketika block data denga nama Dedi tersebut di hash, hasilnya hashnya akan berbeda dengan isi variabel block selanjutnya yang berisi previous_hash. Berikut ilustrasinya"
   ]
  },
  {
   "cell_type": "code",
   "execution_count": 32,
   "metadata": {},
   "outputs": [
    {
     "name": "stdout",
     "output_type": "stream",
     "text": [
      "percobaan manipulasi blockchain\n",
      "nama palsu: Dedi \n",
      "dengan hash -> 01be4d192e27cf9302fd1ac2022de73ce973004c79a8cfb779accd2744ffdd54\n",
      "hash seharusnya -> b010ba8a39381f9f177169d43dcaa16791128d5a16cda05b1a9d29fdc1dea82a\n"
     ]
    }
   ],
   "source": [
    "global_chain_fake = global_chain.copy()\n",
    "global_chain_fake[4]['nama'] = 'Dedi'\n",
    "\n",
    "fake_hash = gen_hash(global_chain_fake[4])\n",
    "print('percobaan manipulasi blockchain')\n",
    "print('nama palsu: %s \\ndengan hash -> %s\\nhash seharusnya -> %s'%(global_chain_fake[4]['nama'],\n",
    "    fake_hash, global_chain_fake[5]['previous_hash']))"
   ]
  },
  {
   "cell_type": "markdown",
   "metadata": {},
   "source": [
    "blockchainnya menjadi tidak valid karena hash dari block index 5 berbeda dengan previous_hash pada block index 6. Untuk membuatnya cocok, si manipulator <b>harus mengupdate seluruh data di blockchain pada block didepannya</b>. Ini menyebabkan si manipulator terpaksa membuat blockchain yang data didalamnya menjadi tidak relevan sama sekali."
   ]
  },
  {
   "cell_type": "markdown",
   "metadata": {},
   "source": [
    "## Referensi\n",
    "\n",
    "https://www.geeksforgeeks.org/data-structures/linked-list/, diakses pada 14 Desember 2019\n",
    "\n",
    "https://hackernoon.com/learn-blockchains-by-building-one-117428612f46, diakses pada 14 Desember 2019\n",
    "\n",
    "Joshi, Archana & Han, Meng & Wang, Yan. (2018). A survey on security and privacy issues of blockchain technology. Mathematical Foundations of Computing. 1. 121-147. 10.3934/mfc.2018007. "
   ]
  }
 ],
 "metadata": {
  "kernelspec": {
   "display_name": "Python 3",
   "language": "python",
   "name": "python3"
  },
  "language_info": {
   "codemirror_mode": {
    "name": "ipython",
    "version": 3
   },
   "file_extension": ".py",
   "mimetype": "text/x-python",
   "name": "python",
   "nbconvert_exporter": "python",
   "pygments_lexer": "ipython3",
   "version": "3.6.8"
  }
 },
 "nbformat": 4,
 "nbformat_minor": 2
}
