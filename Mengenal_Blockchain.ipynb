{
 "cells": [
  {
   "cell_type": "markdown",
   "metadata": {},
   "source": [
    "# Memahami Blockchain\n",
    "\n",
    "Block chain adalah sebuah immutable linked list. Maksudnya struktur dari blockchain menyerupai linkedlist akan tetapi data dalam tiap block pada blockchain tidak dapat diubah. Bagaimana mekanismenya sehingga blockchain ini immutable akan terjawab jika kita memahami cara kerja dari blockchain."
   ]
  },
  {
   "cell_type": "markdown",
   "metadata": {},
   "source": [
    "## Linked List\n",
    "\n",
    "Pertama kita harus paham dulu apa itu linked list. Kalau pernah belajar bahasa C, pasti familiar dengan linked list. Tidak seperti bahasa pemrograman lainnya, C hampir tidak punya fitur apa-apa jika dibandingkan dengan bahasa pemrograman modern high level seperti Java, Python, Ruby dll. C tidak punya vector atau array yang ukurannya dinamis (bisa di tambah panjang elemennya), tapi C punya struct dan malloc (memory allocation) untuk memungkinkan membuat yang mirip dengan itu. \n",
    "\n",
    "Jadi kita declare suatu struct, declare variabel yang ingin kita masukkan disitu dan terakhir variabel alamat memori yang menunjukkan element selanjutnya. Sampai disitu kita punya elemen pertama. Lalu ketika kita ingin membuat elemen kedua, kita pakai malloc untuk alokasi memori keperluan struct baru ini. Kita update variabel alamat memori di elemen pertama dengan alamat memori struct elemen kedua. Begitu seterusnya ketika membuat elemen ketiga, kita update variabel alamat memori elemen kedua dengan alamat memori struct elemen ketiga.\n",
    "\n",
    "![linkedlist](Linkedlist.png)\n",
    "\n"
   ]
  },
  {
   "cell_type": "markdown",
   "metadata": {},
   "source": [
    "## Linked List Versi BlockChain\n",
    "\n",
    "Linked List Blockchain yang asli cukup kompleks dan bisa berbeda-beda sesuai kebutuhan akan sistem yang dibangun. Di sini akan dijelaskan bentuk block chain yang umum dan disederhanakan tapi tetap dapat pointnya kenapa block chain bersifat immutable.\n",
    "\n",
    "![Struktur_Blockchain](Blockchain-Structure.png)\n",
    "\n",
    "Dalam structnya secara umum terdiri dari hash dari block sebelumnya (seluruh data pada struct atau block sebelumnya di masukkan ke fungsi hash, biasanya yang digunakan adalah sha-256), Timestamp kapan block tersebut dibuat, data lainnya yang diperlukan untuk keperluan transaksi, dan terakhir tentu saja alamat memori atau pointer yang menunjukkan block selanjutnya.\n",
    "\n",
    "Hash inilah yang menjadi rahasia kenapa block chain 1 dari 2 alasan kenapa blockchain immutable. <b>Blockchain bukannya tidak bisa dimanipulasi isi data didalamnya, tapi ketika isi datanya dimanipulasi kita tahu itu</b>. Dan kalau kita tahu bahwa suatu informasi itu palsu atau sudah dimanipulasi, kita bisa mengabaikan informasi yang tidak valid tersebut atau hal lainnya tergantung terhadap kepentingan blockchain digunakan. <b>Alasan kedua kenapa block chain menjadi immutable adalah konsep Proof of Work (PoW)</b>. Kita akan bahas lebih lanjut lagi setelah hash.\n",
    "\n",
    "Untuk mempermudah memahami, ayo kita ilustrasikan. Misal kita mempunyai data murid yang ingin namanya dimasukkan dalam blockchain, sebut saja Andi, Budi, Dodi, Ani, dan Mike. Jika kita masukkan ini ke Blockchain sesuai urutannya, maka dalam blockchain akan tampak sebagai berikut."
   ]
  },
  {
   "cell_type": "markdown",
   "metadata": {},
   "source": [
    "## Referensi\n",
    "\n",
    "https://www.geeksforgeeks.org/data-structures/linked-list/, diakses pada 14 Desember 2019\n",
    "\n",
    "https://hackernoon.com/learn-blockchains-by-building-one-117428612f46, diakses pada 14 Desember 2019\n",
    "\n",
    "Joshi, Archana & Han, Meng & Wang, Yan. (2018). A survey on security and privacy issues of blockchain technology. Mathematical Foundations of Computing. 1. 121-147. 10.3934/mfc.2018007. "
   ]
  }
 ],
 "metadata": {
  "kernelspec": {
   "display_name": "Python 3",
   "language": "python",
   "name": "python3"
  },
  "language_info": {
   "codemirror_mode": {
    "name": "ipython",
    "version": 3
   },
   "file_extension": ".py",
   "mimetype": "text/x-python",
   "name": "python",
   "nbconvert_exporter": "python",
   "pygments_lexer": "ipython3",
   "version": "3.7.3"
  }
 },
 "nbformat": 4,
 "nbformat_minor": 2
}
